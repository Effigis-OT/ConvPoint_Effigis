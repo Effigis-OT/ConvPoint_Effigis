{
 "cells": [
  {
   "cell_type": "code",
   "execution_count": 1,
   "source": [
    "!nvidia-smi\n",
    "import torch\n",
    "torch.cuda.empty_cache()"
   ],
   "outputs": [
    {
     "output_type": "stream",
     "name": "stdout",
     "text": [
      "Sun Aug 29 18:43:26 2021       \n",
      "+-----------------------------------------------------------------------------+\n",
      "| NVIDIA-SMI 460.73.01    Driver Version: 460.73.01    CUDA Version: 11.2     |\n",
      "|-------------------------------+----------------------+----------------------+\n",
      "| GPU  Name        Persistence-M| Bus-Id        Disp.A | Volatile Uncorr. ECC |\n",
      "| Fan  Temp  Perf  Pwr:Usage/Cap|         Memory-Usage | GPU-Util  Compute M. |\n",
      "|                               |                      |               MIG M. |\n",
      "|===============================+======================+======================|\n",
      "|   0  Tesla T4            On   | 00000000:00:1E.0 Off |                    0 |\n",
      "| N/A   34C    P8     9W /  70W |      0MiB / 15109MiB |      0%      Default |\n",
      "|                               |                      |                  N/A |\n",
      "+-------------------------------+----------------------+----------------------+\n",
      "                                                                               \n",
      "+-----------------------------------------------------------------------------+\n",
      "| Processes:                                                                  |\n",
      "|  GPU   GI   CI        PID   Type   Process name                  GPU Memory |\n",
      "|        ID   ID                                                   Usage      |\n",
      "|=============================================================================|\n",
      "|  No running processes found                                                 |\n",
      "+-----------------------------------------------------------------------------+\n"
     ]
    }
   ],
   "metadata": {}
  },
  {
   "cell_type": "code",
   "execution_count": 2,
   "source": [
    "import os\n",
    "from os.path import exists, join, basename, splitext\n",
    "\n",
    "git_repo = 'https://github.com/sfoucher/ConvPoint'\n",
    "#git_repo = 'https://github.com/mpelchat04/ConvPoint'\n",
    "\n",
    "if not os.path.isdir(\"ConvPoint\"):\n",
    "  !git clone {git_repo}\n",
    "else:\n",
    "  !git pull"
   ],
   "outputs": [
    {
     "output_type": "stream",
     "name": "stdout",
     "text": [
      "fatal: not a git repository (or any parent up to mount point /)\n",
      "Stopping at filesystem boundary (GIT_DISCOVERY_ACROSS_FILESYSTEM not set).\n"
     ]
    }
   ],
   "metadata": {}
  },
  {
   "cell_type": "code",
   "execution_count": null,
   "source": [
    "%%capture\n",
    "%%bash\n",
    "cd /content/ConvPoint/convpoint/knn/\n",
    "#%pycat setup.py\n",
    "apt-get install gcc g++ -y -qq\n",
    "python setup.py install --home=\".\""
   ],
   "outputs": [],
   "metadata": {}
  },
  {
   "cell_type": "code",
   "execution_count": 19,
   "source": [
    "%%capture --no-stderr\n",
    "%cd /home/jovyan/ConvPoint\n",
    "!pip install -e .\n",
    "!pip install laspy==1.7.*"
   ],
   "outputs": [],
   "metadata": {}
  },
  {
   "cell_type": "code",
   "execution_count": 16,
   "source": [
    "import sys\n",
    "sys.path.append('/home/jovyan/ConvPoint')\n",
    "import convpoint"
   ],
   "outputs": [],
   "metadata": {}
  },
  {
   "cell_type": "code",
   "execution_count": 5,
   "source": [
    "%%capture\n",
    "%%bash\n",
    "cd /home/jovyan\n",
    "rm -rf LASzip_src\n",
    "git clone https://github.com/LASzip/LASzip.git LASzip_src\n",
    "cd LASzip_src\n",
    "git checkout 3.1.0\n",
    "cmake .\n",
    "make\n",
    "make install\n",
    "cd .."
   ],
   "outputs": [],
   "metadata": {}
  },
  {
   "cell_type": "code",
   "execution_count": 7,
   "source": [
    "%%bash\n",
    "echo \"downloading:  ...\" && curl --progress-bar --output /home/jovyan/LAStools.zip --location https://www.cs.unc.edu/~isenburg/lastools/download/LAStools.zip\n",
    "ls -l"
   ],
   "outputs": [
    {
     "output_type": "stream",
     "name": "stdout",
     "text": [
      "downloading:  ...\n",
      "total 56\n",
      "drwxr-sr-x 5 jovyan users 4096 Aug 29 18:06 convpoint\n",
      "drwxr-sr-x 2 jovyan users 4096 Aug 29 18:06 ConvPoint.egg-info\n",
      "-rw-r--r-- 1 jovyan users 2721 Aug 29 17:56 convpoint-env2.yml\n",
      "-rw-r--r-- 1 jovyan users 1178 Aug 29 17:56 convpoint-env.yml\n",
      "drwxr-sr-x 2 jovyan users 4096 Aug 29 17:56 doc\n",
      "-rw-r--r-- 1 jovyan users 2520 Aug 29 17:56 env.yml\n",
      "drwxr-sr-x 8 jovyan users 4096 Aug 29 17:56 examples\n",
      "-rw-r--r-- 1 jovyan users  216 Aug 29 17:56 global_tags.py\n",
      "-rw-r--r-- 1 jovyan users 1516 Aug 29 17:56 LICENSE.md\n",
      "drwxr-sr-x 2 jovyan users 4096 Aug 29 17:56 models\n",
      "drwxr-sr-x 2 jovyan users 4096 Aug 29 17:56 networks\n",
      "-rw-r--r-- 1 jovyan users 2515 Aug 29 17:56 README.md\n",
      "-rw-r--r-- 1 jovyan users  335 Aug 29 17:56 setup.py\n",
      "drwxr-sr-x 2 jovyan users 4096 Aug 29 17:56 utils\n"
     ]
    },
    {
     "output_type": "stream",
     "name": "stderr",
     "text": [
      "######################################################################## 100.0%\n"
     ]
    }
   ],
   "metadata": {}
  },
  {
   "cell_type": "code",
   "execution_count": 9,
   "source": [
    "#@markdown Step 5: installation of LAStools\n",
    "%%capture\n",
    "%%bash\n",
    "cd /home/jovyan\n",
    "unzip LAStools.zip\n",
    "cd LAStools\n",
    "make\n",
    "cp bin/laszip /usr/local/bin\n",
    "cp /home/jovyan/LAStools/bin/las2las /usr/local/bin\n",
    "cp /home/jovyan/LAStools/bin/lasinfo /usr/local/bin\n",
    "ln -s /usr/local/bin/laszip /usr/local/bin/laszip-cli"
   ],
   "outputs": [
    {
     "output_type": "error",
     "ename": "SyntaxError",
     "evalue": "invalid syntax (778758779.py, line 5)",
     "traceback": [
      "\u001b[0;36m  File \u001b[0;32m\"/tmp/ipykernel_1188/778758779.py\"\u001b[0;36m, line \u001b[0;32m5\u001b[0m\n\u001b[0;31m    unzip LAStools.zip\u001b[0m\n\u001b[0m          ^\u001b[0m\n\u001b[0;31mSyntaxError\u001b[0m\u001b[0;31m:\u001b[0m invalid syntax\n"
     ]
    }
   ],
   "metadata": {}
  },
  {
   "cell_type": "code",
   "execution_count": 11,
   "source": [
    "!mkdir -p /home/jovyan/datasets/trn /home/jovyan/datasets/val /home/jovyan/datasets/tst /home/jovyan/datasets/results"
   ],
   "outputs": [],
   "metadata": {}
  },
  {
   "cell_type": "code",
   "execution_count": 2,
   "source": [
    "%run /home/jovyan/ConvPoint/examples/airborne_lidar/prepare_airborne_lidar_label --folder /home/jovyan/DALES/dales_las --dest /home/jovyan/datasets"
   ],
   "outputs": [
    {
     "output_type": "stream",
     "name": "stdout",
     "text": [
      "/home/jovyan/DALES/dales_las/train/5080_54435.las\n"
     ]
    },
    {
     "output_type": "stream",
     "name": "stderr",
     "text": [
      "/home/jovyan/ConvPoint/examples/airborne_lidar/prepare_airborne_lidar_label.py:55: RuntimeWarning: invalid value encountered in true_divide\n",
      "  norm_intensity = (intensity - np.min(intensity)) / (np.max(intensity) - np.min(intensity))\n"
     ]
    },
    {
     "output_type": "stream",
     "name": "stdout",
     "text": [
      "File train/5080_54435.las prepared. 11,345,691 points written.\n",
      "/home/jovyan/DALES/dales_las/train/5085_54320.las\n",
      "File train/5085_54320.las prepared. 14,394,749 points written.\n",
      "/home/jovyan/DALES/dales_las/train/5095_54440.las\n",
      "File train/5095_54440.las prepared. 11,703,345 points written.\n",
      "/home/jovyan/DALES/dales_las/train/5095_54455.las\n",
      "File train/5095_54455.las prepared. 13,561,343 points written.\n",
      "/home/jovyan/DALES/dales_las/train/5100_54495.las\n",
      "File train/5100_54495.las prepared. 12,085,953 points written.\n",
      "/home/jovyan/DALES/dales_las/train/5105_54405.las\n",
      "File train/5105_54405.las prepared. 11,915,905 points written.\n",
      "/home/jovyan/DALES/dales_las/train/5105_54460.las\n",
      "File train/5105_54460.las prepared. 12,954,374 points written.\n",
      "/home/jovyan/DALES/dales_las/train/5110_54320.las\n",
      "File train/5110_54320.las prepared. 17,747,769 points written.\n",
      "/home/jovyan/DALES/dales_las/train/5110_54460.las\n",
      "File train/5110_54460.las prepared. 13,784,200 points written.\n",
      "/home/jovyan/DALES/dales_las/train/5110_54475.las\n",
      "File train/5110_54475.las prepared. 11,981,458 points written.\n",
      "/home/jovyan/DALES/dales_las/train/5110_54495.las\n",
      "File train/5110_54495.las prepared. 11,930,713 points written.\n",
      "/home/jovyan/DALES/dales_las/train/5115_54480.las\n",
      "File train/5115_54480.las prepared. 13,669,819 points written.\n",
      "/home/jovyan/DALES/dales_las/train/5130_54355.las\n",
      "File train/5130_54355.las prepared. 12,148,800 points written.\n",
      "/home/jovyan/DALES/dales_las/train/5135_54495.las\n",
      "File train/5135_54495.las prepared. 11,843,709 points written.\n",
      "/home/jovyan/DALES/dales_las/train/5140_54445.las\n",
      "File train/5140_54445.las prepared. 12,247,389 points written.\n",
      "/home/jovyan/DALES/dales_las/train/5145_54340.las\n",
      "File train/5145_54340.las prepared. 12,059,123 points written.\n",
      "/home/jovyan/DALES/dales_las/train/5145_54405.las\n",
      "File train/5145_54405.las prepared. 12,163,352 points written.\n",
      "/home/jovyan/DALES/dales_las/train/5145_54460.las\n",
      "File train/5145_54460.las prepared. 12,342,171 points written.\n",
      "/home/jovyan/DALES/dales_las/train/5145_54470.las\n",
      "File train/5145_54470.las prepared. 12,105,815 points written.\n",
      "/home/jovyan/DALES/dales_las/train/5145_54480.las\n",
      "File train/5145_54480.las prepared. 12,715,003 points written.\n",
      "/home/jovyan/DALES/dales_las/train/5150_54340.las\n",
      "File train/5150_54340.las prepared. 13,633,297 points written.\n",
      "/home/jovyan/DALES/dales_las/train/5160_54330.las\n",
      "File train/5160_54330.las prepared. 12,010,545 points written.\n",
      "/home/jovyan/DALES/dales_las/train/5165_54390.las\n",
      "File train/5165_54390.las prepared. 12,072,791 points written.\n",
      "/home/jovyan/DALES/dales_las/train/5165_54395.las\n",
      "File train/5165_54395.las prepared. 13,736,539 points written.\n",
      "/home/jovyan/DALES/dales_las/train/5180_54435.las\n",
      "File train/5180_54435.las prepared. 12,108,283 points written.\n",
      "/home/jovyan/DALES/dales_las/train/5180_54485.las\n",
      "File train/5180_54485.las prepared. 11,950,032 points written.\n",
      "/home/jovyan/DALES/dales_las/train/5185_54390.las\n",
      "File train/5185_54390.las prepared. 11,887,408 points written.\n",
      "/home/jovyan/DALES/dales_las/train/5185_54485.las\n",
      "File train/5185_54485.las prepared. 14,539,130 points written.\n",
      "/home/jovyan/DALES/dales_las/train/5190_54400.las\n",
      "File train/5190_54400.las prepared. 12,028,976 points written.\n",
      "/home/jovyan/DALES/dales_las/test/5080_54400.las\n",
      "File test/5080_54400.las prepared. 12,219,779 points written.\n",
      "/home/jovyan/DALES/dales_las/test/5080_54470.las\n",
      "File test/5080_54470.las prepared. 11,862,897 points written.\n",
      "/home/jovyan/DALES/dales_las/test/5100_54440.las\n",
      "File test/5100_54440.las prepared. 11,680,495 points written.\n",
      "/home/jovyan/DALES/dales_las/test/5100_54490.las\n",
      "File test/5100_54490.las prepared. 12,045,879 points written.\n",
      "/home/jovyan/DALES/dales_las/test/5120_54445.las\n",
      "File test/5120_54445.las prepared. 13,886,734 points written.\n",
      "/home/jovyan/DALES/dales_las/test/5135_54430.las\n",
      "File test/5135_54430.las prepared. 12,448,577 points written.\n",
      "/home/jovyan/DALES/dales_las/test/5135_54435.las\n",
      "File test/5135_54435.las prepared. 14,196,538 points written.\n",
      "/home/jovyan/DALES/dales_las/test/5140_54390.las\n",
      "File test/5140_54390.las prepared. 11,988,490 points written.\n",
      "/home/jovyan/DALES/dales_las/test/5150_54325.las\n",
      "File test/5150_54325.las prepared. 11,882,667 points written.\n",
      "/home/jovyan/DALES/dales_las/test/5155_54335.las\n",
      "File test/5155_54335.las prepared. 12,224,031 points written.\n",
      "/home/jovyan/DALES/dales_las/test/5175_54395.las\n",
      "File test/5175_54395.las prepared. 12,207,804 points written.\n"
     ]
    }
   ],
   "metadata": {}
  },
  {
   "cell_type": "code",
   "execution_count": 12,
   "source": [
    "!grid run /home/jovyan/ConvPoint/examples/airborne_lidar/airborne_lidar_seg.py --savedir /home/jovyan/datasets/results --rootdir /home/jovyan/datasets --batchsize 16 --num_workers 4"
   ],
   "outputs": [
    {
     "output_type": "stream",
     "name": "stdout",
     "text": [
      "GraphQL URL: https://platform.grid.ai:443/graphql\n",
      "\u001b[K\u001b[?25hTraceback (most recent call last):-467 ...\u001b[K\n",
      "  File \"/home/jovyan/conda/bin/grid\", line 8, in <module>\n",
      "    sys.exit(main())\n",
      "  File \"/home/jovyan/conda/lib/python3.8/site-packages/click/core.py\", line 829, in __call__\n",
      "    return self.main(*args, **kwargs)\n",
      "  File \"/home/jovyan/conda/lib/python3.8/site-packages/click/core.py\", line 782, in main\n",
      "    rv = self.invoke(ctx)\n",
      "  File \"/home/jovyan/conda/lib/python3.8/site-packages/click/core.py\", line 1259, in invoke\n",
      "    return _process_result(sub_ctx.command.invoke(sub_ctx))\n",
      "  File \"/home/jovyan/conda/lib/python3.8/site-packages/click/core.py\", line 1066, in invoke\n",
      "    return ctx.invoke(self.callback, **ctx.params)\n",
      "  File \"/home/jovyan/conda/lib/python3.8/site-packages/click/core.py\", line 610, in invoke\n",
      "    return callback(*args, **kwargs)\n",
      "  File \"/home/jovyan/conda/lib/python3.8/site-packages/click/decorators.py\", line 21, in new_func\n",
      "    return f(get_current_context(), *args, **kwargs)\n",
      "  File \"/home/jovyan/conda/lib/python3.8/site-packages/grid/cli/cli/grid_run.py\", line 489, in run\n",
      "    client.train(\n",
      "  File \"/home/jovyan/conda/lib/python3.8/site-packages/grid/cli/client.py\", line 611, in train\n",
      "    self._check_dependency_listing(dependency_file=dependency_file)\n",
      "  File \"/home/jovyan/conda/lib/python3.8/site-packages/grid/cli/commands/dependencies.py\", line 149, in _check_dependency_listing\n",
      "    files = os.listdir(repo_root)\n",
      "FileNotFoundError: [Errno 2] No such file or directory: 'fatal: not a git repository (or any parent up to mount point /)\\nStopping at filesystem boundary (GIT_DISCOVERY_ACROSS_FILESYSTEM not set).'\n"
     ]
    }
   ],
   "metadata": {}
  },
  {
   "cell_type": "code",
   "execution_count": 13,
   "source": [
    "%run /home/jovyan/ConvPoint/examples/airborne_lidar/airborne_lidar_seg.py --savedir /home/jovyan/datasets/results --rootdir /home/jovyan/datasets --batchsize 16 --num_workers 4"
   ],
   "outputs": [
    {
     "output_type": "stream",
     "name": "stdout",
     "text": [
      "Create file list...\n",
      "Las files per dataset:\n",
      " Trn: 26 \n",
      " Val: 3 \n",
      " Tst: 11\n",
      "Creating network...\n",
      "Model with dropout\n",
      "Number of parameters in the model: 2,329,657\n",
      "Creating dataloader and optimizer...done\n",
      "Creating results folder...done at /home/jovyan/datasets/results/SegBig_8168_drop0_2021-08-29-19-11-42\n"
     ]
    },
    {
     "output_type": "stream",
     "name": "stderr",
     "text": [
      "Epoch 0:  40%|████████████████████▍                              | 240/600 [19:54<29:52,  4.98s/it, AA=\u001b[94m0.2943\u001b[0m, IOU=\u001b[94m0.2660\u001b[0m, LOSS=\u001b[94m3.3695e-06\u001b[0m, OA=\u001b[94m0.8897\u001b[0m]\u001b[0m\n"
     ]
    },
    {
     "output_type": "error",
     "ename": "KeyboardInterrupt",
     "evalue": "",
     "traceback": [
      "\u001b[0;31m---------------------------------------------------------------------------\u001b[0m",
      "\u001b[0;31mKeyboardInterrupt\u001b[0m                         Traceback (most recent call last)",
      "\u001b[0;32m~/ConvPoint/examples/airborne_lidar/airborne_lidar_seg.py\u001b[0m in \u001b[0;36m<module>\u001b[0;34m\u001b[0m\n\u001b[1;32m    575\u001b[0m \u001b[0;34m\u001b[0m\u001b[0m\n\u001b[1;32m    576\u001b[0m \u001b[0;32mif\u001b[0m \u001b[0m__name__\u001b[0m \u001b[0;34m==\u001b[0m \u001b[0;34m'__main__'\u001b[0m\u001b[0;34m:\u001b[0m\u001b[0;34m\u001b[0m\u001b[0;34m\u001b[0m\u001b[0m\n\u001b[0;32m--> 577\u001b[0;31m     \u001b[0mmain\u001b[0m\u001b[0;34m(\u001b[0m\u001b[0;34m)\u001b[0m\u001b[0;34m\u001b[0m\u001b[0;34m\u001b[0m\u001b[0m\n\u001b[0m",
      "\u001b[0;32m~/ConvPoint/examples/airborne_lidar/airborne_lidar_seg.py\u001b[0m in \u001b[0;36mmain\u001b[0;34m()\u001b[0m\n\u001b[1;32m    568\u001b[0m     \u001b[0minfo_class\u001b[0m \u001b[0;34m=\u001b[0m \u001b[0mclass_mode\u001b[0m\u001b[0;34m(\u001b[0m\u001b[0margs\u001b[0m\u001b[0;34m.\u001b[0m\u001b[0mmode\u001b[0m\u001b[0;34m)\u001b[0m\u001b[0;34m\u001b[0m\u001b[0;34m\u001b[0m\u001b[0m\n\u001b[1;32m    569\u001b[0m     \u001b[0;31m# Train + Validate model\u001b[0m\u001b[0;34m\u001b[0m\u001b[0;34m\u001b[0m\u001b[0;34m\u001b[0m\u001b[0m\n\u001b[0;32m--> 570\u001b[0;31m     \u001b[0mmodel_folder\u001b[0m \u001b[0;34m=\u001b[0m \u001b[0mtrain\u001b[0m\u001b[0;34m(\u001b[0m\u001b[0margs\u001b[0m\u001b[0;34m,\u001b[0m \u001b[0mdataset_dict\u001b[0m\u001b[0;34m,\u001b[0m \u001b[0minfo_class\u001b[0m\u001b[0;34m)\u001b[0m\u001b[0;34m\u001b[0m\u001b[0;34m\u001b[0m\u001b[0m\n\u001b[0m\u001b[1;32m    571\u001b[0m     \u001b[0;31m# Test model\u001b[0m\u001b[0;34m\u001b[0m\u001b[0;34m\u001b[0m\u001b[0;34m\u001b[0m\u001b[0m\n\u001b[1;32m    572\u001b[0m     \u001b[0;32mif\u001b[0m \u001b[0margs\u001b[0m\u001b[0;34m.\u001b[0m\u001b[0mtest\u001b[0m\u001b[0;34m:\u001b[0m\u001b[0;34m\u001b[0m\u001b[0;34m\u001b[0m\u001b[0m\n",
      "\u001b[0;32m~/ConvPoint/examples/airborne_lidar/airborne_lidar_seg.py\u001b[0m in \u001b[0;36mtrain\u001b[0;34m(args, dataset_dict, info_class)\u001b[0m\n\u001b[1;32m    384\u001b[0m         \u001b[0mcm\u001b[0m \u001b[0;34m=\u001b[0m \u001b[0mnp\u001b[0m\u001b[0;34m.\u001b[0m\u001b[0mzeros\u001b[0m\u001b[0;34m(\u001b[0m\u001b[0;34m(\u001b[0m\u001b[0mnb_class\u001b[0m\u001b[0;34m,\u001b[0m \u001b[0mnb_class\u001b[0m\u001b[0;34m)\u001b[0m\u001b[0;34m)\u001b[0m\u001b[0;34m\u001b[0m\u001b[0;34m\u001b[0m\u001b[0m\n\u001b[1;32m    385\u001b[0m         \u001b[0mt\u001b[0m \u001b[0;34m=\u001b[0m \u001b[0mtqdm\u001b[0m\u001b[0;34m(\u001b[0m\u001b[0mtrain_loader\u001b[0m\u001b[0;34m,\u001b[0m \u001b[0mncols\u001b[0m\u001b[0;34m=\u001b[0m\u001b[0;36m150\u001b[0m\u001b[0;34m,\u001b[0m \u001b[0mdesc\u001b[0m\u001b[0;34m=\u001b[0m\u001b[0;34m\"Epoch {}\"\u001b[0m\u001b[0;34m.\u001b[0m\u001b[0mformat\u001b[0m\u001b[0;34m(\u001b[0m\u001b[0mepoch\u001b[0m\u001b[0;34m)\u001b[0m\u001b[0;34m)\u001b[0m\u001b[0;34m\u001b[0m\u001b[0;34m\u001b[0m\u001b[0m\n\u001b[0;32m--> 386\u001b[0;31m         \u001b[0;32mfor\u001b[0m \u001b[0mpts\u001b[0m\u001b[0;34m,\u001b[0m \u001b[0mfeatures\u001b[0m\u001b[0;34m,\u001b[0m \u001b[0mseg\u001b[0m \u001b[0;32min\u001b[0m \u001b[0mt\u001b[0m\u001b[0;34m:\u001b[0m\u001b[0;34m\u001b[0m\u001b[0;34m\u001b[0m\u001b[0m\n\u001b[0m\u001b[1;32m    387\u001b[0m             \u001b[0mfeatures\u001b[0m \u001b[0;34m=\u001b[0m \u001b[0mfeatures\u001b[0m\u001b[0;34m.\u001b[0m\u001b[0mcuda\u001b[0m\u001b[0;34m(\u001b[0m\u001b[0;34m)\u001b[0m\u001b[0;34m\u001b[0m\u001b[0;34m\u001b[0m\u001b[0m\n\u001b[1;32m    388\u001b[0m             \u001b[0mpts\u001b[0m \u001b[0;34m=\u001b[0m \u001b[0mpts\u001b[0m\u001b[0;34m.\u001b[0m\u001b[0mcuda\u001b[0m\u001b[0;34m(\u001b[0m\u001b[0;34m)\u001b[0m\u001b[0;34m\u001b[0m\u001b[0;34m\u001b[0m\u001b[0m\n",
      "\u001b[0;32m~/conda/lib/python3.8/site-packages/tqdm/std.py\u001b[0m in \u001b[0;36m__iter__\u001b[0;34m(self)\u001b[0m\n\u001b[1;32m   1183\u001b[0m \u001b[0;34m\u001b[0m\u001b[0m\n\u001b[1;32m   1184\u001b[0m         \u001b[0;32mtry\u001b[0m\u001b[0;34m:\u001b[0m\u001b[0;34m\u001b[0m\u001b[0;34m\u001b[0m\u001b[0m\n\u001b[0;32m-> 1185\u001b[0;31m             \u001b[0;32mfor\u001b[0m \u001b[0mobj\u001b[0m \u001b[0;32min\u001b[0m \u001b[0miterable\u001b[0m\u001b[0;34m:\u001b[0m\u001b[0;34m\u001b[0m\u001b[0;34m\u001b[0m\u001b[0m\n\u001b[0m\u001b[1;32m   1186\u001b[0m                 \u001b[0;32myield\u001b[0m \u001b[0mobj\u001b[0m\u001b[0;34m\u001b[0m\u001b[0;34m\u001b[0m\u001b[0m\n\u001b[1;32m   1187\u001b[0m                 \u001b[0;31m# Update and possibly print the progressbar.\u001b[0m\u001b[0;34m\u001b[0m\u001b[0;34m\u001b[0m\u001b[0;34m\u001b[0m\u001b[0m\n",
      "\u001b[0;32m~/conda/lib/python3.8/site-packages/torch/utils/data/dataloader.py\u001b[0m in \u001b[0;36m__next__\u001b[0;34m(self)\u001b[0m\n\u001b[1;32m    519\u001b[0m             \u001b[0;32mif\u001b[0m \u001b[0mself\u001b[0m\u001b[0;34m.\u001b[0m\u001b[0m_sampler_iter\u001b[0m \u001b[0;32mis\u001b[0m \u001b[0;32mNone\u001b[0m\u001b[0;34m:\u001b[0m\u001b[0;34m\u001b[0m\u001b[0;34m\u001b[0m\u001b[0m\n\u001b[1;32m    520\u001b[0m                 \u001b[0mself\u001b[0m\u001b[0;34m.\u001b[0m\u001b[0m_reset\u001b[0m\u001b[0;34m(\u001b[0m\u001b[0;34m)\u001b[0m\u001b[0;34m\u001b[0m\u001b[0;34m\u001b[0m\u001b[0m\n\u001b[0;32m--> 521\u001b[0;31m             \u001b[0mdata\u001b[0m \u001b[0;34m=\u001b[0m \u001b[0mself\u001b[0m\u001b[0;34m.\u001b[0m\u001b[0m_next_data\u001b[0m\u001b[0;34m(\u001b[0m\u001b[0;34m)\u001b[0m\u001b[0;34m\u001b[0m\u001b[0;34m\u001b[0m\u001b[0m\n\u001b[0m\u001b[1;32m    522\u001b[0m             \u001b[0mself\u001b[0m\u001b[0;34m.\u001b[0m\u001b[0m_num_yielded\u001b[0m \u001b[0;34m+=\u001b[0m \u001b[0;36m1\u001b[0m\u001b[0;34m\u001b[0m\u001b[0;34m\u001b[0m\u001b[0m\n\u001b[1;32m    523\u001b[0m             \u001b[0;32mif\u001b[0m \u001b[0mself\u001b[0m\u001b[0;34m.\u001b[0m\u001b[0m_dataset_kind\u001b[0m \u001b[0;34m==\u001b[0m \u001b[0m_DatasetKind\u001b[0m\u001b[0;34m.\u001b[0m\u001b[0mIterable\u001b[0m \u001b[0;32mand\u001b[0m\u001b[0;31m \u001b[0m\u001b[0;31m\\\u001b[0m\u001b[0;34m\u001b[0m\u001b[0;34m\u001b[0m\u001b[0m\n",
      "\u001b[0;32m~/conda/lib/python3.8/site-packages/torch/utils/data/dataloader.py\u001b[0m in \u001b[0;36m_next_data\u001b[0;34m(self)\u001b[0m\n\u001b[1;32m   1184\u001b[0m \u001b[0;34m\u001b[0m\u001b[0m\n\u001b[1;32m   1185\u001b[0m             \u001b[0;32massert\u001b[0m \u001b[0;32mnot\u001b[0m \u001b[0mself\u001b[0m\u001b[0;34m.\u001b[0m\u001b[0m_shutdown\u001b[0m \u001b[0;32mand\u001b[0m \u001b[0mself\u001b[0m\u001b[0;34m.\u001b[0m\u001b[0m_tasks_outstanding\u001b[0m \u001b[0;34m>\u001b[0m \u001b[0;36m0\u001b[0m\u001b[0;34m\u001b[0m\u001b[0;34m\u001b[0m\u001b[0m\n\u001b[0;32m-> 1186\u001b[0;31m             \u001b[0midx\u001b[0m\u001b[0;34m,\u001b[0m \u001b[0mdata\u001b[0m \u001b[0;34m=\u001b[0m \u001b[0mself\u001b[0m\u001b[0;34m.\u001b[0m\u001b[0m_get_data\u001b[0m\u001b[0;34m(\u001b[0m\u001b[0;34m)\u001b[0m\u001b[0;34m\u001b[0m\u001b[0;34m\u001b[0m\u001b[0m\n\u001b[0m\u001b[1;32m   1187\u001b[0m             \u001b[0mself\u001b[0m\u001b[0;34m.\u001b[0m\u001b[0m_tasks_outstanding\u001b[0m \u001b[0;34m-=\u001b[0m \u001b[0;36m1\u001b[0m\u001b[0;34m\u001b[0m\u001b[0;34m\u001b[0m\u001b[0m\n\u001b[1;32m   1188\u001b[0m             \u001b[0;32mif\u001b[0m \u001b[0mself\u001b[0m\u001b[0;34m.\u001b[0m\u001b[0m_dataset_kind\u001b[0m \u001b[0;34m==\u001b[0m \u001b[0m_DatasetKind\u001b[0m\u001b[0;34m.\u001b[0m\u001b[0mIterable\u001b[0m\u001b[0;34m:\u001b[0m\u001b[0;34m\u001b[0m\u001b[0;34m\u001b[0m\u001b[0m\n",
      "\u001b[0;32m~/conda/lib/python3.8/site-packages/torch/utils/data/dataloader.py\u001b[0m in \u001b[0;36m_get_data\u001b[0;34m(self)\u001b[0m\n\u001b[1;32m   1150\u001b[0m         \u001b[0;32melse\u001b[0m\u001b[0;34m:\u001b[0m\u001b[0;34m\u001b[0m\u001b[0;34m\u001b[0m\u001b[0m\n\u001b[1;32m   1151\u001b[0m             \u001b[0;32mwhile\u001b[0m \u001b[0;32mTrue\u001b[0m\u001b[0;34m:\u001b[0m\u001b[0;34m\u001b[0m\u001b[0;34m\u001b[0m\u001b[0m\n\u001b[0;32m-> 1152\u001b[0;31m                 \u001b[0msuccess\u001b[0m\u001b[0;34m,\u001b[0m \u001b[0mdata\u001b[0m \u001b[0;34m=\u001b[0m \u001b[0mself\u001b[0m\u001b[0;34m.\u001b[0m\u001b[0m_try_get_data\u001b[0m\u001b[0;34m(\u001b[0m\u001b[0;34m)\u001b[0m\u001b[0;34m\u001b[0m\u001b[0;34m\u001b[0m\u001b[0m\n\u001b[0m\u001b[1;32m   1153\u001b[0m                 \u001b[0;32mif\u001b[0m \u001b[0msuccess\u001b[0m\u001b[0;34m:\u001b[0m\u001b[0;34m\u001b[0m\u001b[0;34m\u001b[0m\u001b[0m\n\u001b[1;32m   1154\u001b[0m                     \u001b[0;32mreturn\u001b[0m \u001b[0mdata\u001b[0m\u001b[0;34m\u001b[0m\u001b[0;34m\u001b[0m\u001b[0m\n",
      "\u001b[0;32m~/conda/lib/python3.8/site-packages/torch/utils/data/dataloader.py\u001b[0m in \u001b[0;36m_try_get_data\u001b[0;34m(self, timeout)\u001b[0m\n\u001b[1;32m    988\u001b[0m         \u001b[0;31m#   (bool: whether successfully get data, any: data if successful else None)\u001b[0m\u001b[0;34m\u001b[0m\u001b[0;34m\u001b[0m\u001b[0;34m\u001b[0m\u001b[0m\n\u001b[1;32m    989\u001b[0m         \u001b[0;32mtry\u001b[0m\u001b[0;34m:\u001b[0m\u001b[0;34m\u001b[0m\u001b[0;34m\u001b[0m\u001b[0m\n\u001b[0;32m--> 990\u001b[0;31m             \u001b[0mdata\u001b[0m \u001b[0;34m=\u001b[0m \u001b[0mself\u001b[0m\u001b[0;34m.\u001b[0m\u001b[0m_data_queue\u001b[0m\u001b[0;34m.\u001b[0m\u001b[0mget\u001b[0m\u001b[0;34m(\u001b[0m\u001b[0mtimeout\u001b[0m\u001b[0;34m=\u001b[0m\u001b[0mtimeout\u001b[0m\u001b[0;34m)\u001b[0m\u001b[0;34m\u001b[0m\u001b[0;34m\u001b[0m\u001b[0m\n\u001b[0m\u001b[1;32m    991\u001b[0m             \u001b[0;32mreturn\u001b[0m \u001b[0;34m(\u001b[0m\u001b[0;32mTrue\u001b[0m\u001b[0;34m,\u001b[0m \u001b[0mdata\u001b[0m\u001b[0;34m)\u001b[0m\u001b[0;34m\u001b[0m\u001b[0;34m\u001b[0m\u001b[0m\n\u001b[1;32m    992\u001b[0m         \u001b[0;32mexcept\u001b[0m \u001b[0mException\u001b[0m \u001b[0;32mas\u001b[0m \u001b[0me\u001b[0m\u001b[0;34m:\u001b[0m\u001b[0;34m\u001b[0m\u001b[0;34m\u001b[0m\u001b[0m\n",
      "\u001b[0;32m~/conda/lib/python3.8/multiprocessing/queues.py\u001b[0m in \u001b[0;36mget\u001b[0;34m(self, block, timeout)\u001b[0m\n\u001b[1;32m    105\u001b[0m                 \u001b[0;32mif\u001b[0m \u001b[0mblock\u001b[0m\u001b[0;34m:\u001b[0m\u001b[0;34m\u001b[0m\u001b[0;34m\u001b[0m\u001b[0m\n\u001b[1;32m    106\u001b[0m                     \u001b[0mtimeout\u001b[0m \u001b[0;34m=\u001b[0m \u001b[0mdeadline\u001b[0m \u001b[0;34m-\u001b[0m \u001b[0mtime\u001b[0m\u001b[0;34m.\u001b[0m\u001b[0mmonotonic\u001b[0m\u001b[0;34m(\u001b[0m\u001b[0;34m)\u001b[0m\u001b[0;34m\u001b[0m\u001b[0;34m\u001b[0m\u001b[0m\n\u001b[0;32m--> 107\u001b[0;31m                     \u001b[0;32mif\u001b[0m \u001b[0;32mnot\u001b[0m \u001b[0mself\u001b[0m\u001b[0;34m.\u001b[0m\u001b[0m_poll\u001b[0m\u001b[0;34m(\u001b[0m\u001b[0mtimeout\u001b[0m\u001b[0;34m)\u001b[0m\u001b[0;34m:\u001b[0m\u001b[0;34m\u001b[0m\u001b[0;34m\u001b[0m\u001b[0m\n\u001b[0m\u001b[1;32m    108\u001b[0m                         \u001b[0;32mraise\u001b[0m \u001b[0mEmpty\u001b[0m\u001b[0;34m\u001b[0m\u001b[0;34m\u001b[0m\u001b[0m\n\u001b[1;32m    109\u001b[0m                 \u001b[0;32melif\u001b[0m \u001b[0;32mnot\u001b[0m \u001b[0mself\u001b[0m\u001b[0;34m.\u001b[0m\u001b[0m_poll\u001b[0m\u001b[0;34m(\u001b[0m\u001b[0;34m)\u001b[0m\u001b[0;34m:\u001b[0m\u001b[0;34m\u001b[0m\u001b[0;34m\u001b[0m\u001b[0m\n",
      "\u001b[0;32m~/conda/lib/python3.8/multiprocessing/connection.py\u001b[0m in \u001b[0;36mpoll\u001b[0;34m(self, timeout)\u001b[0m\n\u001b[1;32m    255\u001b[0m         \u001b[0mself\u001b[0m\u001b[0;34m.\u001b[0m\u001b[0m_check_closed\u001b[0m\u001b[0;34m(\u001b[0m\u001b[0;34m)\u001b[0m\u001b[0;34m\u001b[0m\u001b[0;34m\u001b[0m\u001b[0m\n\u001b[1;32m    256\u001b[0m         \u001b[0mself\u001b[0m\u001b[0;34m.\u001b[0m\u001b[0m_check_readable\u001b[0m\u001b[0;34m(\u001b[0m\u001b[0;34m)\u001b[0m\u001b[0;34m\u001b[0m\u001b[0;34m\u001b[0m\u001b[0m\n\u001b[0;32m--> 257\u001b[0;31m         \u001b[0;32mreturn\u001b[0m \u001b[0mself\u001b[0m\u001b[0;34m.\u001b[0m\u001b[0m_poll\u001b[0m\u001b[0;34m(\u001b[0m\u001b[0mtimeout\u001b[0m\u001b[0;34m)\u001b[0m\u001b[0;34m\u001b[0m\u001b[0;34m\u001b[0m\u001b[0m\n\u001b[0m\u001b[1;32m    258\u001b[0m \u001b[0;34m\u001b[0m\u001b[0m\n\u001b[1;32m    259\u001b[0m     \u001b[0;32mdef\u001b[0m \u001b[0m__enter__\u001b[0m\u001b[0;34m(\u001b[0m\u001b[0mself\u001b[0m\u001b[0;34m)\u001b[0m\u001b[0;34m:\u001b[0m\u001b[0;34m\u001b[0m\u001b[0;34m\u001b[0m\u001b[0m\n",
      "\u001b[0;32m~/conda/lib/python3.8/multiprocessing/connection.py\u001b[0m in \u001b[0;36m_poll\u001b[0;34m(self, timeout)\u001b[0m\n\u001b[1;32m    422\u001b[0m \u001b[0;34m\u001b[0m\u001b[0m\n\u001b[1;32m    423\u001b[0m     \u001b[0;32mdef\u001b[0m \u001b[0m_poll\u001b[0m\u001b[0;34m(\u001b[0m\u001b[0mself\u001b[0m\u001b[0;34m,\u001b[0m \u001b[0mtimeout\u001b[0m\u001b[0;34m)\u001b[0m\u001b[0;34m:\u001b[0m\u001b[0;34m\u001b[0m\u001b[0;34m\u001b[0m\u001b[0m\n\u001b[0;32m--> 424\u001b[0;31m         \u001b[0mr\u001b[0m \u001b[0;34m=\u001b[0m \u001b[0mwait\u001b[0m\u001b[0;34m(\u001b[0m\u001b[0;34m[\u001b[0m\u001b[0mself\u001b[0m\u001b[0;34m]\u001b[0m\u001b[0;34m,\u001b[0m \u001b[0mtimeout\u001b[0m\u001b[0;34m)\u001b[0m\u001b[0;34m\u001b[0m\u001b[0;34m\u001b[0m\u001b[0m\n\u001b[0m\u001b[1;32m    425\u001b[0m         \u001b[0;32mreturn\u001b[0m \u001b[0mbool\u001b[0m\u001b[0;34m(\u001b[0m\u001b[0mr\u001b[0m\u001b[0;34m)\u001b[0m\u001b[0;34m\u001b[0m\u001b[0;34m\u001b[0m\u001b[0m\n\u001b[1;32m    426\u001b[0m \u001b[0;34m\u001b[0m\u001b[0m\n",
      "\u001b[0;32m~/conda/lib/python3.8/multiprocessing/connection.py\u001b[0m in \u001b[0;36mwait\u001b[0;34m(object_list, timeout)\u001b[0m\n\u001b[1;32m    929\u001b[0m \u001b[0;34m\u001b[0m\u001b[0m\n\u001b[1;32m    930\u001b[0m             \u001b[0;32mwhile\u001b[0m \u001b[0;32mTrue\u001b[0m\u001b[0;34m:\u001b[0m\u001b[0;34m\u001b[0m\u001b[0;34m\u001b[0m\u001b[0m\n\u001b[0;32m--> 931\u001b[0;31m                 \u001b[0mready\u001b[0m \u001b[0;34m=\u001b[0m \u001b[0mselector\u001b[0m\u001b[0;34m.\u001b[0m\u001b[0mselect\u001b[0m\u001b[0;34m(\u001b[0m\u001b[0mtimeout\u001b[0m\u001b[0;34m)\u001b[0m\u001b[0;34m\u001b[0m\u001b[0;34m\u001b[0m\u001b[0m\n\u001b[0m\u001b[1;32m    932\u001b[0m                 \u001b[0;32mif\u001b[0m \u001b[0mready\u001b[0m\u001b[0;34m:\u001b[0m\u001b[0;34m\u001b[0m\u001b[0;34m\u001b[0m\u001b[0m\n\u001b[1;32m    933\u001b[0m                     \u001b[0;32mreturn\u001b[0m \u001b[0;34m[\u001b[0m\u001b[0mkey\u001b[0m\u001b[0;34m.\u001b[0m\u001b[0mfileobj\u001b[0m \u001b[0;32mfor\u001b[0m \u001b[0;34m(\u001b[0m\u001b[0mkey\u001b[0m\u001b[0;34m,\u001b[0m \u001b[0mevents\u001b[0m\u001b[0;34m)\u001b[0m \u001b[0;32min\u001b[0m \u001b[0mready\u001b[0m\u001b[0;34m]\u001b[0m\u001b[0;34m\u001b[0m\u001b[0;34m\u001b[0m\u001b[0m\n",
      "\u001b[0;32m~/conda/lib/python3.8/selectors.py\u001b[0m in \u001b[0;36mselect\u001b[0;34m(self, timeout)\u001b[0m\n\u001b[1;32m    413\u001b[0m         \u001b[0mready\u001b[0m \u001b[0;34m=\u001b[0m \u001b[0;34m[\u001b[0m\u001b[0;34m]\u001b[0m\u001b[0;34m\u001b[0m\u001b[0;34m\u001b[0m\u001b[0m\n\u001b[1;32m    414\u001b[0m         \u001b[0;32mtry\u001b[0m\u001b[0;34m:\u001b[0m\u001b[0;34m\u001b[0m\u001b[0;34m\u001b[0m\u001b[0m\n\u001b[0;32m--> 415\u001b[0;31m             \u001b[0mfd_event_list\u001b[0m \u001b[0;34m=\u001b[0m \u001b[0mself\u001b[0m\u001b[0;34m.\u001b[0m\u001b[0m_selector\u001b[0m\u001b[0;34m.\u001b[0m\u001b[0mpoll\u001b[0m\u001b[0;34m(\u001b[0m\u001b[0mtimeout\u001b[0m\u001b[0;34m)\u001b[0m\u001b[0;34m\u001b[0m\u001b[0;34m\u001b[0m\u001b[0m\n\u001b[0m\u001b[1;32m    416\u001b[0m         \u001b[0;32mexcept\u001b[0m \u001b[0mInterruptedError\u001b[0m\u001b[0;34m:\u001b[0m\u001b[0;34m\u001b[0m\u001b[0;34m\u001b[0m\u001b[0m\n\u001b[1;32m    417\u001b[0m             \u001b[0;32mreturn\u001b[0m \u001b[0mready\u001b[0m\u001b[0;34m\u001b[0m\u001b[0;34m\u001b[0m\u001b[0m\n",
      "\u001b[0;31mKeyboardInterrupt\u001b[0m: "
     ]
    }
   ],
   "metadata": {}
  },
  {
   "cell_type": "code",
   "execution_count": 18,
   "source": [
    "!python /home/jovyan/ConvPoint/run.py --savedir /home/jovyan/datasets/results --rootdir /home/jovyan/datasets --batchsize 16 --num_workers 4"
   ],
   "outputs": [
    {
     "output_type": "stream",
     "name": "stdout",
     "text": [
      "Traceback (most recent call last):\n",
      "  File \"/home/jovyan/ConvPoint/run.py\", line 11, in <module>\n",
      "    from convpoint.examples.airborne_lidar.airborne_lidar_utils import write_features\n",
      "ModuleNotFoundError: No module named 'convpoint.examples'\n"
     ]
    }
   ],
   "metadata": {}
  },
  {
   "cell_type": "code",
   "execution_count": 33,
   "source": [
    "las = laspy.read('/home/jovyan/DALES/dales_las/train/5080_54435.las')\n",
    "las.header"
   ],
   "outputs": [
    {
     "output_type": "execute_result",
     "data": {
      "text/plain": [
       "<LasHeader(1.2, <PointFormat(1, 0 bytes of extra dims)>)>"
      ]
     },
     "metadata": {},
     "execution_count": 33
    }
   ],
   "metadata": {}
  },
  {
   "cell_type": "code",
   "execution_count": null,
   "source": [
    "las.header."
   ],
   "outputs": [],
   "metadata": {}
  }
 ],
 "metadata": {
  "kernelspec": {
   "display_name": "Python 3 (ipykernel)",
   "language": "python",
   "name": "python3"
  },
  "language_info": {
   "codemirror_mode": {
    "name": "ipython",
    "version": 3
   },
   "file_extension": ".py",
   "mimetype": "text/x-python",
   "name": "python",
   "nbconvert_exporter": "python",
   "pygments_lexer": "ipython3",
   "version": "3.8.8"
  }
 },
 "nbformat": 4,
 "nbformat_minor": 5
}